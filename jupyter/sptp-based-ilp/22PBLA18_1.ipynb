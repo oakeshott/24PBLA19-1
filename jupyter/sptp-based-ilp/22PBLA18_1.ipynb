{
  "nbformat": 4,
  "nbformat_minor": 0,
  "metadata": {
    "colab": {
      "provenance": [],
      "authorship_tag": "ABX9TyMTJb2nbTTfZKgWYTmao0yN",
      "include_colab_link": true
    },
    "kernelspec": {
      "name": "python3",
      "display_name": "Python 3"
    },
    "language_info": {
      "name": "python"
    }
  },
  "cells": [
    {
      "cell_type": "markdown",
      "metadata": {
        "id": "view-in-github",
        "colab_type": "text"
      },
      "source": [
        "<a href=\"https://colab.research.google.com/github/oakeshott/22PBLA18-1/blob/master/jupyter/sptp-based-ilp/22PBLA18_1.ipynb\" target=\"_parent\"><img src=\"https://colab.research.google.com/assets/colab-badge.svg\" alt=\"Open In Colab\"/></a>"
      ]
    },
    {
      "cell_type": "markdown",
      "source": [
        "#PBL A18-1"
      ],
      "metadata": {
        "id": "VLTA4AJODjqw"
      }
    },
    {
      "cell_type": "code",
      "source": [
        "!pip install pulp networkx matplotlib pandas"
      ],
      "metadata": {
        "colab": {
          "base_uri": "https://localhost:8080/"
        },
        "id": "LVds8FNEDjB9",
        "outputId": "73a301f6-905a-4150-dea7-d967c6a623bc"
      },
      "execution_count": null,
      "outputs": [
        {
          "output_type": "stream",
          "name": "stdout",
          "text": [
            "Looking in indexes: https://pypi.org/simple, https://us-python.pkg.dev/colab-wheels/public/simple/\n",
            "Requirement already satisfied: pulp in /usr/local/lib/python3.7/dist-packages (2.7.0)\n",
            "Requirement already satisfied: networkx in /usr/local/lib/python3.7/dist-packages (2.6.3)\n",
            "Requirement already satisfied: matplotlib in /usr/local/lib/python3.7/dist-packages (3.2.2)\n",
            "Requirement already satisfied: pandas in /usr/local/lib/python3.7/dist-packages (1.3.5)\n",
            "Requirement already satisfied: numpy>=1.11 in /usr/local/lib/python3.7/dist-packages (from matplotlib) (1.21.6)\n",
            "Requirement already satisfied: pyparsing!=2.0.4,!=2.1.2,!=2.1.6,>=2.0.1 in /usr/local/lib/python3.7/dist-packages (from matplotlib) (3.0.9)\n",
            "Requirement already satisfied: python-dateutil>=2.1 in /usr/local/lib/python3.7/dist-packages (from matplotlib) (2.8.2)\n",
            "Requirement already satisfied: kiwisolver>=1.0.1 in /usr/local/lib/python3.7/dist-packages (from matplotlib) (1.4.4)\n",
            "Requirement already satisfied: cycler>=0.10 in /usr/local/lib/python3.7/dist-packages (from matplotlib) (0.11.0)\n",
            "Requirement already satisfied: typing-extensions in /usr/local/lib/python3.7/dist-packages (from kiwisolver>=1.0.1->matplotlib) (4.1.1)\n",
            "Requirement already satisfied: six>=1.5 in /usr/local/lib/python3.7/dist-packages (from python-dateutil>=2.1->matplotlib) (1.15.0)\n",
            "Requirement already satisfied: pytz>=2017.3 in /usr/local/lib/python3.7/dist-packages (from pandas) (2022.6)\n"
          ]
        }
      ]
    },
    {
      "cell_type": "code",
      "source": [
        "!git clone https://github.com/oakeshott/22PBLA18-1"
      ],
      "metadata": {
        "colab": {
          "base_uri": "https://localhost:8080/"
        },
        "id": "wQhHcLLj2EmQ",
        "outputId": "4f64158d-57b3-40ce-b54b-e34069ba8897"
      },
      "execution_count": null,
      "outputs": [
        {
          "output_type": "stream",
          "name": "stdout",
          "text": [
            "Cloning into '22PBLA18-1'...\n",
            "remote: Enumerating objects: 146, done.\u001b[K\n",
            "remote: Counting objects: 100% (146/146), done.\u001b[K\n",
            "remote: Compressing objects: 100% (40/40), done.\u001b[K\n",
            "remote: Total 146 (delta 101), reused 146 (delta 101), pack-reused 0\u001b[K\n",
            "Receiving objects: 100% (146/146), 9.64 MiB | 22.90 MiB/s, done.\n",
            "Resolving deltas: 100% (101/101), done.\n"
          ]
        }
      ]
    },
    {
      "cell_type": "code",
      "source": [
        "import pulp\n",
        "import networkx as nx\n",
        "import os\n",
        "import matplotlib.pyplot as plt\n",
        "import json\n",
        "import time\n",
        "import pandas as pd"
      ],
      "metadata": {
        "id": "0n2d8TAQFhME"
      },
      "execution_count": null,
      "outputs": []
    },
    {
      "cell_type": "markdown",
      "source": [
        "# How to use Pulp and Networkx\n",
        " \n",
        "## Shortest Path Problem Formulation\n",
        "\n",
        "- Inputs:\n",
        "    * Directed graph $G=(\\mathcal{V}, \\mathcal{E})$, source $s$, and destination $d$\n",
        "    * Distance $d_{i,j}$ of link $(i,j) \\in \\mathcal{E}$\n",
        "    * Decision variables $\\mathbf{x}=[x_{i,j}]$, $((i,j)\\in\\mathcal{E})$  \n",
        "        * If $x_{i,j}=1$, the link $(i,j)$ is used.\n",
        "        * Otherwise, the link $(i,j)$ is not used.\n",
        "    * If $i = s$, the node $i$ is a supply point (i.e, $i=1$)\n",
        "    * If $i = d$, the node $i$ is a demand point (i.e, $i=-1$)\n",
        "    * Otherwise, the node $i$ is a passing point (i.e., $i=0$)\n",
        "    * $\\mathcal{V}_i$: A set of neighbors of node $i$\n",
        "- Output: The shortest path distance\n",
        "- Objective funciton: Minimize the path distance\n",
        "$$\n",
        "\\min \\sum_{(i,j) \\in \\mathcal{E}} d_{i,j}x_{i,j}\n",
        "$$\n",
        "- Constraints\n",
        "$$\n",
        "\\begin{align}\n",
        "\\mathrm{s.t.} &\\quad x_{i,j} = \\{0, 1\\} \\quad (i,j) \\in \\mathcal{E}\\\\\n",
        "&\\quad\\sum_{j \\in \\mathcal{V_i}} x_{i,j} - \\sum_{j \\in \\mathcal{V_i}} x_{j,i} = \\begin{cases}\n",
        "1 \\quad &\\textrm{if $i == s$,}\\\\\n",
        "-1 \\quad &\\textrm{if $i == d$,}\\\\\n",
        "0 \\quad &\\textrm{otherwise.}\\\\\n",
        "\\end{cases} i \\in \\mathcal{V}\n",
        "\\end{align}\n",
        "$$"
      ],
      "metadata": {
        "id": "IWueRV3ND2eg"
      }
    },
    {
      "cell_type": "code",
      "source": [
        "basedir = \"/content/22PBLA18-1/\"\n",
        "path = os.path.join(basedir, \"dataset/nsfnetbw\")\n",
        "filename = os.path.join(path, \"network.gml\")\n",
        "G = nx.read_gml(filename, label=\"id\")\n",
        "pos = {n: (G.nodes()[n][\"lng\"], G.nodes()[n][\"lat\"]) for n in G.nodes()}\n",
        "nx.draw_networkx(G, pos=pos)"
      ],
      "metadata": {
        "colab": {
          "base_uri": "https://localhost:8080/",
          "height": 248
        },
        "id": "Zk0siiFrDzeE",
        "outputId": "44d966d7-5dc1-4aa3-831c-1aefd5a1b050"
      },
      "execution_count": null,
      "outputs": [
        {
          "output_type": "display_data",
          "data": {
            "text/plain": [
              "<Figure size 432x288 with 1 Axes>"
            ],
            "image/png": "[encoded data removed]"
          },
          "metadata": {}
        }
      ]
    },
    {
      "cell_type": "code",
      "source": [
        "print(\"Data fowarding delay\", nx.get_node_attributes(G, \"delay\"))\n",
        "print(\"Propagation delay\", nx.get_edge_attributes(G, \"delay\"))\n",
        "print(\"Processing capacity\", nx.get_node_attributes(G, \"capacity\"))\n",
        "print(\"Bandwidth\", nx.get_edge_attributes(G, \"bandwidth\"))"
      ],
      "metadata": {
        "colab": {
          "base_uri": "https://localhost:8080/"
        },
        "id": "xU1Ac91CFWb1",
        "outputId": "993ae671-336f-43a1-b408-9b2014ed5f77"
      },
      "execution_count": null,
      "outputs": [
        {
          "output_type": "stream",
          "name": "stdout",
          "text": [
            "Data fowarding delay {0: 0.1, 1: 0.1, 2: 0.1, 3: 0.1, 4: 0.1, 5: 0.1, 6: 0.1, 7: 0.1, 8: 0.1, 9: 0.1, 10: 0.1, 11: 0.1}\n",
            "Propagation delay {(0, 1): 10.0, (0, 3): 10.0, (1, 0): 10.0, (1, 2): 10.0, (1, 6): 10.0, (2, 1): 10.0, (2, 4): 10.0, (3, 0): 10.0, (3, 5): 10.0, (4, 2): 10.0, (4, 10): 10.0, (5, 3): 10.0, (5, 6): 10.0, (6, 1): 10.0, (6, 5): 10.0, (6, 7): 10.0, (7, 8): 10.0, (7, 6): 10.0, (8, 9): 10.0, (8, 11): 10.0, (8, 7): 10.0, (9, 8): 10.0, (9, 10): 10.0, (10, 9): 10.0, (10, 11): 10.0, (10, 4): 10.0, (11, 8): 10.0, (11, 10): 10.0}\n",
            "Processing capacity {0: 1.0, 1: 1.0, 2: 1.0, 3: 1.0, 4: 1.0, 5: 1.0, 6: 1.0, 7: 1.0, 8: 1.0, 9: 1.0, 10: 1.0, 11: 1.0}\n",
            "Bandwidth {(0, 1): 1000.0, (0, 3): 1000.0, (1, 0): 1000.0, (1, 2): 1000.0, (1, 6): 1000.0, (2, 1): 1000.0, (2, 4): 1000.0, (3, 0): 1000.0, (3, 5): 1000.0, (4, 2): 1000.0, (4, 10): 1000.0, (5, 3): 1000.0, (5, 6): 1000.0, (6, 1): 1000.0, (6, 5): 1000.0, (6, 7): 1000.0, (7, 8): 1000.0, (7, 6): 1000.0, (8, 9): 1000.0, (8, 11): 1000.0, (8, 7): 1000.0, (9, 8): 1000.0, (9, 10): 1000.0, (10, 9): 1000.0, (10, 11): 1000.0, (10, 4): 1000.0, (11, 8): 1000.0, (11, 10): 1000.0}\n"
          ]
        }
      ]
    },
    {
      "cell_type": "code",
      "source": [
        "# define source and destination\n",
        "source = 0\n",
        "destination = 11\n",
        "# define shortst path problem\n",
        "problem = pulp.LpProblem(\"Shortest path problem\", pulp.LpMinimize)\n",
        "\n",
        "# define binary decision variables\n",
        "x = {}\n",
        "for i, j in G.edges():\n",
        "  x[i,j] = pulp.LpVariable(f\"x_{i},{j}\", 0, 1, pulp.LpBinary)\n",
        "\n",
        "# define objective function\n",
        "problem += pulp.lpSum(G[i][j][\"delay\"] * x[i,j] for i, j in G.edges())\n",
        "\n",
        "# define constraints\n",
        "for i in G.nodes():\n",
        "  if i == source:\n",
        "    problem += pulp.lpSum(x[i,j] for j in G.neighbors(i)) - pulp.lpSum(x[j,i] for j in G.neighbors(i)) == 1, f\"flow_constraint_node_{i}\"\n",
        "  elif i == destination:\n",
        "    problem += pulp.lpSum(x[i,j] for j in G.neighbors(i)) - pulp.lpSum(x[j,i] for j in G.neighbors(i)) == -1, f\"flow_constraint_node_{i}\"\n",
        "  else:\n",
        "    problem += pulp.lpSum(x[i,j] for j in G.neighbors(i)) - pulp.lpSum(x[j,i] for j in G.neighbors(i)) == 0, f\"flow_constraint_node_{i}\"\n",
        "print(problem)"
      ],
      "metadata": {
        "colab": {
          "base_uri": "https://localhost:8080/"
        },
        "id": "7VLCgC4lFmLv",
        "outputId": "62d43424-2cbe-48e1-8901-b91f406d792e"
      },
      "execution_count": null,
      "outputs": [
        {
          "output_type": "stream",
          "name": "stdout",
          "text": [
            "Shortest_path_problem:\n",
            "MINIMIZE\n",
            "10.0*x_0,1 + 10.0*x_0,3 + 10.0*x_1,0 + 10.0*x_1,2 + 10.0*x_1,6 + 10.0*x_10,11 + 10.0*x_10,4 + 10.0*x_10,9 + 10.0*x_11,10 + 10.0*x_11,8 + 10.0*x_2,1 + 10.0*x_2,4 + 10.0*x_3,0 + 10.0*x_3,5 + 10.0*x_4,10 + 10.0*x_4,2 + 10.0*x_5,3 + 10.0*x_5,6 + 10.0*x_6,1 + 10.0*x_6,5 + 10.0*x_6,7 + 10.0*x_7,6 + 10.0*x_7,8 + 10.0*x_8,11 + 10.0*x_8,7 + 10.0*x_8,9 + 10.0*x_9,10 + 10.0*x_9,8 + 0.0\n",
            "SUBJECT TO\n",
            "flow_constraint_node_0: x_0,1 + x_0,3 - x_1,0 - x_3,0 = 1\n",
            "\n",
            "flow_constraint_node_1: - x_0,1 + x_1,0 + x_1,2 + x_1,6 - x_2,1 - x_6,1 = 0\n",
            "\n",
            "flow_constraint_node_2: - x_1,2 + x_2,1 + x_2,4 - x_4,2 = 0\n",
            "\n",
            "flow_constraint_node_3: - x_0,3 + x_3,0 + x_3,5 - x_5,3 = 0\n",
            "\n",
            "flow_constraint_node_4: - x_10,4 - x_2,4 + x_4,10 + x_4,2 = 0\n",
            "\n",
            "flow_constraint_node_5: - x_3,5 + x_5,3 + x_5,6 - x_6,5 = 0\n",
            "\n",
            "flow_constraint_node_6: - x_1,6 - x_5,6 + x_6,1 + x_6,5 + x_6,7 - x_7,6 = 0\n",
            "\n",
            "flow_constraint_node_7: - x_6,7 + x_7,6 + x_7,8 - x_8,7 = 0\n",
            "\n",
            "flow_constraint_node_8: - x_11,8 - x_7,8 + x_8,11 + x_8,7 + x_8,9 - x_9,8 = 0\n",
            "\n",
            "flow_constraint_node_9: - x_10,9 - x_8,9 + x_9,10 + x_9,8 = 0\n",
            "\n",
            "flow_constraint_node_10: x_10,11 + x_10,4 + x_10,9 - x_11,10 - x_4,10 - x_9,10\n",
            " = 0\n",
            "\n",
            "flow_constraint_node_11: - x_10,11 + x_11,10 + x_11,8 - x_8,11 = -1\n",
            "\n",
            "VARIABLES\n",
            "0 <= x_0,1 <= 1 Integer\n",
            "0 <= x_0,3 <= 1 Integer\n",
            "0 <= x_1,0 <= 1 Integer\n",
            "0 <= x_1,2 <= 1 Integer\n",
            "0 <= x_1,6 <= 1 Integer\n",
            "0 <= x_10,11 <= 1 Integer\n",
            "0 <= x_10,4 <= 1 Integer\n",
            "0 <= x_10,9 <= 1 Integer\n",
            "0 <= x_11,10 <= 1 Integer\n",
            "0 <= x_11,8 <= 1 Integer\n",
            "0 <= x_2,1 <= 1 Integer\n",
            "0 <= x_2,4 <= 1 Integer\n",
            "0 <= x_3,0 <= 1 Integer\n",
            "0 <= x_3,5 <= 1 Integer\n",
            "0 <= x_4,10 <= 1 Integer\n",
            "0 <= x_4,2 <= 1 Integer\n",
            "0 <= x_5,3 <= 1 Integer\n",
            "0 <= x_5,6 <= 1 Integer\n",
            "0 <= x_6,1 <= 1 Integer\n",
            "0 <= x_6,5 <= 1 Integer\n",
            "0 <= x_6,7 <= 1 Integer\n",
            "0 <= x_7,6 <= 1 Integer\n",
            "0 <= x_7,8 <= 1 Integer\n",
            "0 <= x_8,11 <= 1 Integer\n",
            "0 <= x_8,7 <= 1 Integer\n",
            "0 <= x_8,9 <= 1 Integer\n",
            "0 <= x_9,10 <= 1 Integer\n",
            "0 <= x_9,8 <= 1 Integer\n",
            "\n"
          ]
        },
        {
          "output_type": "stream",
          "name": "stderr",
          "text": [
            "/usr/local/lib/python3.7/dist-packages/pulp/pulp.py:1352: UserWarning: Spaces are not permitted in the name. Converted to '_'\n",
            "  warnings.warn(\"Spaces are not permitted in the name. Converted to '_'\")\n"
          ]
        }
      ]
    },
    {
      "cell_type": "code",
      "source": [
        "status = problem.solve()\n",
        "print(f\"Status: {pulp.LpStatus[status]}, Objective value: {pulp.value(problem.objective)}\")\n",
        "for i, j in G.edges():\n",
        "  value = pulp.value(x[i,j])\n",
        "  if value == 1:\n",
        "    print(f\"{i}\\t{j}\\t{value}\")"
      ],
      "metadata": {
        "colab": {
          "base_uri": "https://localhost:8080/"
        },
        "id": "z_jySWOKFo0V",
        "outputId": "f87c2fc9-9e97-4ea0-8bd6-76095913435a"
      },
      "execution_count": null,
      "outputs": [
        {
          "output_type": "stream",
          "name": "stdout",
          "text": [
            "Status: Optimal, Objective value: 50.0\n",
            "0\t1\t1.0\n",
            "1\t6\t1.0\n",
            "6\t7\t1.0\n",
            "7\t8\t1.0\n",
            "8\t11\t1.0\n"
          ]
        }
      ]
    },
    {
      "cell_type": "code",
      "source": [
        "shortest_path_length = nx.shortest_path_length(G, source, destination, weight=\"delay\")\n",
        "print(f\"Shortest path length: {shortest_path_length}\")\n",
        "# We observe that the ILP exhibts the same result as the shortest path selection."
      ],
      "metadata": {
        "colab": {
          "base_uri": "https://localhost:8080/"
        },
        "id": "MzH9nfZXFqeD",
        "outputId": "271bc2d4-e746-4957-f665-fdc211e3594c"
      },
      "execution_count": null,
      "outputs": [
        {
          "output_type": "stream",
          "name": "stdout",
          "text": [
            "Shortest path length: 50.0\n"
          ]
        }
      ]
    },
    {
      "cell_type": "markdown",
      "source": [
        "# Network Functions Virtualization and Service Chaining\n",
        "## Network Fucntions Virtualization (NFV)\n",
        "- The NFV network decuples the network functions from the dedicated hardware and then execute them on the generic hardware as the virtual network functions (VNFs).\n",
        "  * Network function: e.g., NAT, firewall.\n",
        "- The NFV network can deploy agile and flexible network services.\n",
        "  * Network service: e.g, video streaming, web service\n",
        "- A certain network service can be interpreted as a sequence of VNFs called service chain.\n",
        "    * In case of video streaming, the network service consists of NAT→FW→TM→VOC→IDPS\n",
        "        * It is important to ensure the function execution order.\n",
        "        * NAT: Network Address Translator\n",
        "        * FW: Firewall\n",
        "        * TM: Traffic Monitoring\n",
        "        * VOC: Video Optimization Controller\n",
        "        * IDPS: Intrusion Detection Prevention System\n",
        "- The NFV network can deploy network services with agility and flexibility as well as reducing capital expenditure (CAPEX) and operating expenditure (OPEX).\n",
        "\n",
        "<figure>\n",
        "<img src=\"https://raw.githubusercontent.com/oakeshott/21SS_CSPTP-baesed_ILP/master/fig/PNF_vs_VNF.png\" width=80%></img>\n",
        "</figure>\n",
        "\n",
        "## Service Chaining (SC) Problem\n",
        "- Given a service chain request (SCR), an NFV orchestrator finds a service path from an origin node to a destination node while executing the VNFs at the intermediate nodes in required order under resource constraints.\n",
        "- The SC problem belongs to the complexity class NP-hard.\n",
        "\n",
        "## Shortest path tour problem (SPTP)\n",
        "- SPTP is a variant of shortest path problem and aims at finding the shortest path from an origin node to a destination node while visiting at least one node from given disjoint node subsets, $\\mathcal{T}_1, \\ldots, \\mathcal{T}_K$ ($\\mathcal{T}_1, \\cap \\ldots \\cap \\mathcal{T}_K = \\emptyset$, in this order\n",
        "The similarity between SC and SPTP is pointed out\n"
      ],
      "metadata": {
        "id": "ZNboSTzlF496"
      }
    },
    {
      "cell_type": "markdown",
      "source": [
        "## System Model\n",
        "### Service Chain Request (SCR)\n",
        "Each service path request has service chain requirements $r_c$. The NFV orchestrator need to establish a service path while meeting the service chain requirements.\n",
        "- Service chain requirement $r_c=(o_c, d_c, \\mathrm{R}_c, b_c, p_c^{\\mathrm{node}}, \\{p_{c,f_{c,k}}\\}_{k=1,\\ldots,K_c})$\n",
        "  * $o_c$: origin node\n",
        "  * $d_c$: destination node\n",
        "  * $\\mathrm{R}_c$: A sequence of $K_c$ VNFs $\\mathrm{R}_c = (f_{c,1},\\ldots,f_{c,K_c+1})$\n",
        "  * $b_c$: Bit rate required by the SCR $c$\n",
        "  * $p_c^{\\mathrm{node}}$: Processing resources required for data forwarding\n",
        "  * $p_{c,f_{c,k}}$: Processing resources equired for executing the 𝑘th function $f_{c,k}$ at a physical node.\n",
        "  * $\\mathcal{K}_c = \\{1, \\ldots, K_c\\}$\n",
        "  * $\\mathcal{K}_c^+ = \\{1, \\ldots, K_c+1\\}$\n",
        "\n",
        "<figure>\n",
        "<img src=\"https://raw.githubusercontent.com/oakeshott/21SS_CSPTP-baesed_ILP/master/fig/service_chain_requirements.png\" width=50%></img>\n",
        "  <figcaption>An example of an SCR.</figcaption>\n",
        "</figure>\n",
        "\n",
        "### Physical network\n",
        "A physical network can be expressed by a directed graph $G=(\\mathcal{V},\\mathcal{E})$.\n",
        "- $\\mathcal{V}$: a set of physical nodes\n",
        "- $\\mathcal{E}$: a set of physical links\n",
        "\n",
        "Each physical link $(i,j) \\in \\mathcal{E}$ (resp. each physical node $i \\in \\mathcal{V}$) has residual bandwidth $B_{i,j}$ (resp. residual processing capacity $P_i$) at the beginning of serving the SCRs $C$.\n",
        "\n",
        "The NFV network supports $F$ distinct functions, i.e., $F=\\{f_1,\\ldots,f_F\\}$.\n",
        "\n",
        "<figure>\n",
        "<img src=\"https://raw.githubusercontent.com/oakeshott/22PBLA18-1/master/fig/physical_network.png\" width=50%></img>\n",
        "  <figcaption>An example of a physical network</figcaption>\n",
        "</figure>\n",
        "\n",
        "### Augmented Network\n",
        "The augmented network $G^+=(\\mathcal{V}^+, \\mathcal{E}^+)$ is defined as a physical network $G$ with imaginary nodes $\\hat{\\mathcal{V}}$ and virtual links $\\hat{\\mathcal{E}}^\\mathrm{in} \\cup \\hat{\\mathcal{E}}^\\mathrm{out}$\n",
        "- $\\mathcal{V}^+=\\mathcal{V} \\cup \\hat{\\mathcal{V}}$\n",
        "- $\\mathcal{E}^+=\\mathcal{E} \\cup \\hat{\\mathcal{E}}^\\mathrm{in} \\cup \\hat{\\mathcal{E}}^\\mathrm{out}$\n",
        "- An imaginary node $\\hat{v}_{f_{c,k}} \\in \\hat{\\mathcal{V}}$ is responsible for the $k$th function $f_{c,k}$ and is connected to a physical link supporting the fucntion $f_{c,k}$ via a virtual link.\n",
        "- An incoming virtual link $(v, \\hat{v}_{f_{c,k}})$ corresponds to the execution of function $f_{c,k}$ when it is included in a service path.\n",
        "- $\\hat{\\mathcal{E}}^\\mathrm{in}$ is a set of incoming virtual links to $\\hat{v}_f$.\n",
        "- $\\hat{\\mathcal{E}}^\\mathrm{out}$ is a set of outgoing virtual links from $\\hat{v}_f$.\n",
        "- $\\mathcal{V}^+_i$: A set of neighbors of $i \\in \\mathcal{V}^+$\n",
        "\n",
        "<figure>\n",
        "<img src=\"https://raw.githubusercontent.com/oakeshott/22PBLA18-1/master/fig/augmented_network.png\" width=50%></img>\n",
        "  <figcaption>An example of augmented network</figcaption>\n",
        "</figure>\n",
        "\n",
        "### Service Path\n",
        "The service path with origin $o_c$, destination $d_c$, and $\\mathcal{R}_c=(f_{c,1},\\ldots,f_{c,K_c})$ is composed of $K_c+1$ subpaths.（$\\mathcal{S}_c=(\\mathcal{S}_{c,1},\\ldots,\\mathcal{S}_{c,K_c+1})$).\n",
        "The pair $(a_k, b_k)$ of origin and destination nodes of the $k$th subpath is given as follows:\n",
        "\n",
        "$$\n",
        "(a_{k},b_{k}) =\n",
        "\\begin{cases}\n",
        "  (o_c, \\hat{v}_{f_{c,1}}), & k = 1\\\\\n",
        "  (\\hat{v}_{f_{c,k-1}}, \\hat{v}_{f_{c,k}}),& k = 2,\\ldots,K_c\\\\\n",
        "  (\\hat{v}_{f_{c,K_c}}, d_c), & k = K_c+1\n",
        "\\end{cases}\n",
        "$$\n",
        "<figure>\n",
        "<img src=\"https://raw.githubusercontent.com/oakeshott/22PBLA18-1/master/fig/service_path.png\" width=50%></img>\n",
        "  <figcaption>An example of service path</figcaption>\n",
        "</figure>\n",
        "\n",
        "Total service path delay is defined as the sum of propagation delay and processing delay along the path.\n",
        "* $d_{i,j}^{\\mathrm{link}}$: Propagation delay of physical link $(i,j)$\n",
        "* $d_v^{\\mathrm{node}}$: Procesing delay of physical node $v\\in\\mathcal{V}$ for data forwarding.\n",
        "* $d_{\\hat{v}_f,v}^{\\mathrm{func}}$: Processing delay of physical node $v\\in\\mathcal{V}$ for executing the function $f$.\n",
        "\n",
        "The service path has the following characteristics.\n",
        "- The service path may contain loop(s).\n",
        "- Each subpath does not contain any loop.\n",
        "- Every node and link have capacity constraints.\n"
      ],
      "metadata": {
        "id": "rTwcFxcnH50y"
      }
    },
    {
      "cell_type": "markdown",
      "source": [
        "# SPTP-based Service Chaining\n",
        "\n",
        "## Formulation\n",
        "- Inputs: \n",
        "  - Directed Graph $G^+=(\\mathcal{V}^+, \\mathcal{E}^+)$\n",
        "  - $r_c=(o_c, d_c, \\mathrm{R}_c, b_c, p_c^{\\mathrm{node}}, \\{p_{c,f_{c,k}}\\}_{k=1,\\ldots,K_c})$\n",
        "- Output: Service path $\\mathcal{S}_c$\n",
        "- Objective function: Minimization of total service path delay\n",
        "$$\n",
        "  \\min \\quad \\sum_{(i,j) \\in \\mathcal{E}^{+}} d_{i,j} \\sum_{k \\in \\mathcal{K}_c^{+}} x_{i,j}^{k}.\n",
        "$$\n",
        "\n",
        "$d_{i,j}$ is given by\n",
        "$$\n",
        "d_{i,j} =     \n",
        "\\begin{cases}\n",
        "  d_i^{\\mathrm{node}} + d_{i,j}^{\\mathrm{link}}, & \\textrm{if $(i, j) \\in \\mathcal{E}$,}\n",
        "\\\\\n",
        "  d_{i,j}^{\\mathrm{func}}, & \\textrm{if $(i, j) \\in \\hat{\\mathcal{E}}^{\\mathrm{out}}$,}\n",
        "\\\\\n",
        "  0, & \\textrm{Otherwise.}\n",
        "\\end{cases}\n",
        "$$\n",
        "\n",
        "If $(i,j) \\in \\mathcal{E}$, the processing delay for data forwarding and propagation delay are considered.\n",
        "If $(i,j) \\in \\hat{\\mathcal{E}}^{\\mathrm{out}}$, the processing delay for executing the function $f$ are considered.\n",
        "\n",
        "- Constraints\n",
        "$$\n",
        "\\begin{align}\n",
        "\\mathrm{s.t.} &\\quad x_{i,j}^{k} = \\{0,1\\}, \\quad (i,j) \\in \\mathcal{E}^+, k \\in \\mathcal{K}_c^+, &(1)\\\\\n",
        "&\\sum_{j \\in \\mathrm{V}_i^+} x_{i,j}^{k} - \\sum_{j \\in \\mathrm{V}_i^+} x_{j,i}^{k} =\n",
        "\\begin{cases}\n",
        "    1 & \\textrm{if $i = a_{k}$,}\\\\\n",
        "    -1 & \\textrm{if $i = b_{k}$,}\\\\\n",
        "    0 & \\textrm{otherwise,}\\\\\n",
        "\\end{cases} i \\in \\mathcal{V}^+, k \\in \\mathcal{K}_c^+&(2)\\\\\n",
        "&x_{i,\\hat{v}_{f_{c,k}}}^{k} = x_{\\hat{v}_{f_{c,k}},i}^{k+1} , \\quad (i,\\hat{v}_{f_{c,k}}) \\in \\hat{\\mathcal{E}}^\\mathrm{in}, (\\hat{v}_{f_{c,k}},i) \\in \\hat{\\mathcal{E}}^\\mathrm{out}, k \\in \\mathcal{K}_c&(3)\\\\\n",
        "&x_{i,\\hat{v}_{f_{c,m}}}^{k} = 0, \\quad (i,\\hat{v}_{f_{c,m}}) \\in \\hat{\\mathcal{E}}^\\mathrm{in}, k \\in \\mathcal{K}_c^{+}, m \\neq k&(4)\\\\\n",
        "&b_c \\sum_{k \\in \\mathcal{K}_c^{+}} x_{i,j}^{k} \\leq B_{i,j}, \\quad (i,j) \\in \\mathcal{E}&(5)\\\\\n",
        "&p_c^\\mathrm{node} \\sum_{(v,j) \\in \\mathcal{E}} \\sum_{k \\in \\mathcal{K}_c^{+}} x_{v,j}^{k} + \\sum_{(\\hat{v}_f,v) \\in \\hat{\\mathcal{E}}^\\mathrm{out}}p_{c,f}^\\mathrm{func} \\sum_{k \\in \\mathcal{K}_c^{+}} x_{\\hat{v}_f,v}^{k} \\leq P_v, \\quad v \\in \\mathcal{V}.&(6)\n",
        "\\end{align}\n",
        "$$\n",
        "\n",
        "SPTP-related constraints are (1)-(4).\n",
        "Constraint (1) is decision variables.\n",
        "If $x_{i,j}^{k}=1$, the link $(i,j)$ is used in the $k$ subpath.\n",
        "Otherwise, the link is not used.\n",
        "Constraint (2) is the standard flow conservation rules.\n",
        "Cosntraint (3) ensures the connectivity between the $k$th and $k+1$th subpaths.\n",
        "Constraint (4) prohibits the unnecessary execution of $m$th function $f_{c,m}$ in the $k$th ($m \\neq k$) subpath.\n",
        "Constraint (5) and (6) give the constraints on physical link capacity and processing capacity of physical node, respectively."
      ],
      "metadata": {
        "id": "gf-EaaeRMVns"
      }
    },
    {
      "cell_type": "code",
      "source": [
        "# Define physical network\n",
        "path = \"/content/22PBLA18-1/dataset/nsfnetbw\"\n",
        "filename = os.path.join(path, \"network.gml\")\n",
        "physical_network = nx.read_gml(filename, label=\"id\")\n",
        "physical_node_size = len(physical_network.nodes())\n",
        "print(\"A set of physical nodes\", G.nodes())\n",
        "print(\"A set of physical links\", G.edges())\n",
        "\n",
        "print(r\"$d_{i}^{\\mathrm{node}}$\", nx.get_node_attributes(G, \"delay\"))\n",
        "print(r\"$d_{i,j}^{\\mathrm{link}}$\", nx.get_edge_attributes(G, \"delay\"))\n",
        "print(r\"$P_i$\", nx.get_node_attributes(G, \"capacity\"))\n",
        "print(r\"$B_{i,j}$\", nx.get_edge_attributes(G, \"bandwidth\"))\n",
        "pos = {n: (physical_network.nodes()[n][\"lng\"], physical_network.nodes()[n][\"lat\"]) for n in physical_network.nodes()}\n",
        "nx.draw_networkx(physical_network, pos=pos)"
      ],
      "metadata": {
        "colab": {
          "base_uri": "https://localhost:8080/",
          "height": 375
        },
        "id": "tBgA1M-EMU3H",
        "outputId": "54980d83-2597-4ce6-c59c-b48d231d07c9"
      },
      "execution_count": null,
      "outputs": [
        {
          "output_type": "stream",
          "name": "stdout",
          "text": [
            "A set of physical nodes [0, 1, 2, 3, 4, 5, 6, 7, 8, 9, 10, 11]\n",
            "A set of physical links [(0, 1), (0, 3), (1, 0), (1, 2), (1, 6), (2, 1), (2, 4), (3, 0), (3, 5), (4, 2), (4, 10), (5, 3), (5, 6), (6, 1), (6, 5), (6, 7), (7, 8), (7, 6), (8, 9), (8, 11), (8, 7), (9, 8), (9, 10), (10, 9), (10, 11), (10, 4), (11, 8), (11, 10)]\n",
            "$d_{i}^{\\mathrm{node}}$ {0: 0.1, 1: 0.1, 2: 0.1, 3: 0.1, 4: 0.1, 5: 0.1, 6: 0.1, 7: 0.1, 8: 0.1, 9: 0.1, 10: 0.1, 11: 0.1}\n",
            "$d_{i,j}^{\\mathrm{link}}$ {(0, 1): 10.0, (0, 3): 10.0, (1, 0): 10.0, (1, 2): 10.0, (1, 6): 10.0, (2, 1): 10.0, (2, 4): 10.0, (3, 0): 10.0, (3, 5): 10.0, (4, 2): 10.0, (4, 10): 10.0, (5, 3): 10.0, (5, 6): 10.0, (6, 1): 10.0, (6, 5): 10.0, (6, 7): 10.0, (7, 8): 10.0, (7, 6): 10.0, (8, 9): 10.0, (8, 11): 10.0, (8, 7): 10.0, (9, 8): 10.0, (9, 10): 10.0, (10, 9): 10.0, (10, 11): 10.0, (10, 4): 10.0, (11, 8): 10.0, (11, 10): 10.0}\n",
            "$P_i$ {0: 1.0, 1: 1.0, 2: 1.0, 3: 1.0, 4: 1.0, 5: 1.0, 6: 1.0, 7: 1.0, 8: 1.0, 9: 1.0, 10: 1.0, 11: 1.0}\n",
            "$B_{i,j}$ {(0, 1): 1000.0, (0, 3): 1000.0, (1, 0): 1000.0, (1, 2): 1000.0, (1, 6): 1000.0, (2, 1): 1000.0, (2, 4): 1000.0, (3, 0): 1000.0, (3, 5): 1000.0, (4, 2): 1000.0, (4, 10): 1000.0, (5, 3): 1000.0, (5, 6): 1000.0, (6, 1): 1000.0, (6, 5): 1000.0, (6, 7): 1000.0, (7, 8): 1000.0, (7, 6): 1000.0, (8, 9): 1000.0, (8, 11): 1000.0, (8, 7): 1000.0, (9, 8): 1000.0, (9, 10): 1000.0, (10, 9): 1000.0, (10, 11): 1000.0, (10, 4): 1000.0, (11, 8): 1000.0, (11, 10): 1000.0}\n"
          ]
        },
        {
          "output_type": "display_data",
          "data": {
            "text/plain": [
              "<Figure size 432x288 with 1 Axes>"
            ],
            "image/png": "[encoded data removed]"
          },
          "metadata": {}
        }
      ]
    },
    {
      "cell_type": "code",
      "source": [
        "# define service chain requirements\n",
        "filename = os.path.join(path, \"service_chain_requirements.json\")\n",
        "with open(filename) as f:\n",
        "  connections = json.load(f)\n",
        "for connection in connections:\n",
        "  connection['required_processing_func'] = {int(k): v for k, v in connection['required_processing_func'].items()}\n",
        "connection = connections[0]\n",
        "\"\"\"\n",
        "{'arrival_time': Arrival time, \n",
        "'destination': destination node, \n",
        "'id': SCR ID, \n",
        "'origin': origin node, \n",
        "'processing_time': service time,\n",
        "'request': a sequence of functions, R_c,\n",
        "'required_bandwidth': b_c,\n",
        "'required_processing_func': {'0': processing resources for executing function 0, '1': processing resources for executing function 1, '2': processing resources for executing function 2, '3': processing resources for executing function 3, '4': processing resources for executing function 4, '5': processing resources for executing function 5,},\n",
        "'required_processing_node':processing resources for data forwarding}\n",
        "\"\"\"\n",
        "print(connection)"
      ],
      "metadata": {
        "colab": {
          "base_uri": "https://localhost:8080/"
        },
        "id": "KIq0MnEMH5ae",
        "outputId": "773f537a-8984-4c9b-e1ca-6dfc7e97a9aa"
      },
      "execution_count": null,
      "outputs": [
        {
          "output_type": "stream",
          "name": "stdout",
          "text": [
            "{'arrival_time': 0.5396058372591854, 'destination': 10, 'id': 0, 'origin': 8, 'processing_time': 100.0, 'request': [0, 1, 2, 5, 4], 'required_bandwidth': 4.0, 'required_processing_func': {0: 0.00092, 1: 0.0009, 2: 0.0133, 4: 0.0107, 5: 0.0054}, 'required_processing_node': 0.0005}\n"
          ]
        }
      ]
    },
    {
      "cell_type": "markdown",
      "source": [
        "## Service Chain Requests\n",
        "\n",
        "Service | Sequence of functions \n",
        "---|---\n",
        "Web service | NAT-FW-TM-WOC-IDPS\n",
        "VoIP | NAT-FW-TM-FW-NAT\n",
        "Video streaming | NAT-FW-TM-VOC-IDPS\n",
        "Online gaming | NAT-FW-VOC-WOC-IDPS\n",
        "\n",
        "## Network functions\n",
        "- NAT: Network Address Translator, function 0\n",
        "- FW: Firewall, function 1                                 \n",
        "- TM: Traffic Monitoring, function 2                       \n",
        "- IDPS: Intrusion Detection Prevention System, function 3\n",
        "- VOC: Video Optimization Controller, function 4\n",
        "- WOC: WAN Optimization Controller, function 5"
      ],
      "metadata": {
        "id": "DlbsOxE-Y27X"
      }
    },
    {
      "cell_type": "code",
      "source": [
        "filename = os.path.join(path, \"function_placement.json\")\n",
        "with open(filename) as f:\n",
        "  function_placement = json.load(f)\n",
        "placement = function_placement[\"placement\"]\n",
        "print(placement)\n",
        "F = set(function_placement['functions'])\n",
        "print(r\"$\\mathcal{F}$\", F)\n",
        "\"\"\"\n",
        "- NAT: Network Address Translator, function 0\n",
        "- FW: Firewall, function 1                                 \n",
        "- TM: Traffic Monitoring, function 2                       \n",
        "- IDPS: Intrusion Detection Prevention System, function 3\n",
        "- VOC: Video Optimization Controller, function 4\n",
        "- WOC: WAN Optimization Controller, function 5\n",
        "\"\"\"\n",
        "\n",
        "imaginary_links = pd.DataFrame.from_dict(placement)\n",
        "imaginary_nodes = {f: f+physical_node_size for f in F}\n",
        "\"\"\"\n",
        "{0: 12, 1: 13, 2: 14, 3: 15, 4: 16, 5: 17}\n",
        "For example {0: 12} means that the imaginary node id of the network function 0 (NAT) is 12.\n",
        "We can calculate the function id from the imaginary node id by defining the imaginary node id as the sum of the function id and the number of physical nodes\n",
        "\"\"\"\n",
        "print(\"Imaginary node\", imaginary_nodes)\n",
        "\"\"\"\n",
        "    delay  function  physical_node\n",
        "6      50         3             11\n",
        "This indicates that the physical node 11 is connected to the imaginary node 14 responsible for function 3 and its processing delay is 50 ms.\n",
        "\"\"\"\n",
        "print(\"Virtual links\", imaginary_links)"
      ],
      "metadata": {
        "colab": {
          "base_uri": "https://localhost:8080/"
        },
        "id": "ywFhmjaUH0I4",
        "outputId": "2fce26a9-2d20-4c20-cf08-5ab25afdcd39"
      },
      "execution_count": null,
      "outputs": [
        {
          "output_type": "stream",
          "name": "stdout",
          "text": [
            "[{'delay': 50, 'function': 0, 'physical_node': 0}, {'delay': 50, 'function': 0, 'physical_node': 2}, {'delay': 50, 'function': 1, 'physical_node': 1}, {'delay': 50, 'function': 1, 'physical_node': 6}, {'delay': 50, 'function': 2, 'physical_node': 4}, {'delay': 50, 'function': 2, 'physical_node': 3}, {'delay': 50, 'function': 3, 'physical_node': 11}, {'delay': 50, 'function': 3, 'physical_node': 5}, {'delay': 50, 'function': 4, 'physical_node': 8}, {'delay': 50, 'function': 4, 'physical_node': 8}, {'delay': 50, 'function': 5, 'physical_node': 7}, {'delay': 50, 'function': 5, 'physical_node': 9}]\n",
            "$\\mathcal{F}$ {0, 1, 2, 3, 4, 5}\n",
            "Imaginary node {0: 12, 1: 13, 2: 14, 3: 15, 4: 16, 5: 17}\n",
            "Virtual links     delay  function  physical_node\n",
            "0      50         0              0\n",
            "1      50         0              2\n",
            "2      50         1              1\n",
            "3      50         1              6\n",
            "4      50         2              4\n",
            "5      50         2              3\n",
            "6      50         3             11\n",
            "7      50         3              5\n",
            "8      50         4              8\n",
            "9      50         4              8\n",
            "10     50         5              7\n",
            "11     50         5              9\n"
          ]
        }
      ]
    },
    {
      "cell_type": "code",
      "source": [
        "# define augmented network\n",
        "G = physical_network.copy()\n",
        "for func, node in imaginary_nodes.items():\n",
        "  G.add_node(node, lng=-(func+1)*8 - 70, lat=60, delay=0)\n",
        "imaginary_links.apply(lambda x: G.add_edge(x.physical_node, imaginary_nodes[x.function], delay=0), axis=1)\n",
        "imaginary_links.apply(lambda x: G.add_edge(imaginary_nodes[x.function], x.physical_node, delay=x.delay * 1e-3), axis=1) # d_{i,j}^{func}\n",
        "print(\"A set of nodes of augmented network\", G.nodes())\n",
        "print(\"A set of links of augmented network\", G.edges())\n",
        "pos = {n: (G.nodes()[n][\"lng\"], G.nodes()[n][\"lat\"]) for n in G.nodes()}\n",
        "nx.draw_networkx(G, pos=pos)"
      ],
      "metadata": {
        "colab": {
          "base_uri": "https://localhost:8080/",
          "height": 304
        },
        "id": "WJRq_EH8aD1y",
        "outputId": "26ffb2d3-dc66-4823-a310-876636aa5431"
      },
      "execution_count": null,
      "outputs": [
        {
          "output_type": "stream",
          "name": "stdout",
          "text": [
            "A set of nodes of augmented network [0, 1, 2, 3, 4, 5, 6, 7, 8, 9, 10, 11, 12, 13, 14, 15, 16, 17]\n",
            "A set of links of augmented network [(0, 1), (0, 3), (0, 12), (1, 0), (1, 2), (1, 6), (1, 13), (2, 1), (2, 4), (2, 12), (3, 0), (3, 5), (3, 14), (4, 2), (4, 10), (4, 14), (5, 3), (5, 6), (5, 15), (6, 1), (6, 5), (6, 7), (6, 13), (7, 8), (7, 6), (7, 17), (8, 9), (8, 11), (8, 7), (8, 16), (9, 8), (9, 10), (9, 17), (10, 9), (10, 11), (10, 4), (11, 8), (11, 10), (11, 15), (12, 0), (12, 2), (13, 1), (13, 6), (14, 4), (14, 3), (15, 11), (15, 5), (16, 8), (17, 7), (17, 9)]\n"
          ]
        },
        {
          "output_type": "display_data",
          "data": {
            "text/plain": [
              "<Figure size 432x288 with 1 Axes>"
            ],
            "image/png": "[encoded data removed]"
          },
          "metadata": {}
        }
      ]
    },
    {
      "cell_type": "code",
      "source": [
        "# define the origin and destination of k-th subpath\n",
        "a = []\n",
        "b = []\n",
        "for c in connections:\n",
        "  R_c = c['request']\n",
        "  K_c = len(R_c)\n",
        "  o_c = c['origin']\n",
        "  d_c = c['destination']\n",
        "  a_ck = []\n",
        "  b_ck = []\n",
        "  for k in range(K_c+1):\n",
        "    if k == 0:\n",
        "      a_ck.append(o_c)\n",
        "    if k == K_c:\n",
        "      b_ck.append(d_c)\n",
        "    else:\n",
        "      a_ck.append(imaginary_nodes[R_c[k]])\n",
        "      b_ck.append(imaginary_nodes[R_c[k]])\n",
        "  a.append(a_ck)\n",
        "  b.append(b_ck)\n",
        "print(\"a_k =\", a[0])\n",
        "print(\"b_k =\", b[0])"
      ],
      "metadata": {
        "id": "i_BFW9pEaOyy"
      },
      "execution_count": null,
      "outputs": []
    },
    {
      "cell_type": "code",
      "source": [
        "# formualte ILP\n",
        "m = pulp.LpProblem(\"SPTP-based-ILP\", pulp.LpMinimize)\n",
        "\n",
        "# define binary decision variables\n",
        "x = {}\n",
        "for c, connection in enumerate(connections):\n",
        "  K_c = len(connection['request'])\n",
        "  for k in range(K_c+1):\n",
        "    for i, j in G.edges():\n",
        "      x[i,j,c,k] = pulp.LpVariable(\"x_{:},{:},{:},{:}\".format(i, j, c, k), 0, 1, pulp.LpBinary)\n",
        "      # c means the service chain request\n",
        "# define objective function\n",
        "m += pulp.lpSum(G[i][j][\"delay\"] * pulp.lpSum(x[i,j,c,k]         for c in range(len(connections)) for k in range(len(connections[c]['request'])+1) ) for i, j in physical_network.edges()) \\\n",
        "      + pulp.lpSum(G.nodes()[v][\"delay\"] * pulp.lpSum(x[v,j,c,k] for c in range(len(connections)) for k in range(len(connections[c]['request'])+1) ) for v, j in physical_network.edges()) \\\n",
        "      + pulp.lpSum(G[v_f][v][\"delay\"] * pulp.lpSum(x[v_f,v,c,k]  for c in range(len(connections)) for k in range(len(connections[c]['request'])+1) ) for v_f, v in G.edges() if v_f in imaginary_nodes.values()), \"Objective function\"\n",
        "\n"
      ],
      "metadata": {
        "id": "FdB6L4YzaQeC"
      },
      "execution_count": null,
      "outputs": []
    },
    {
      "cell_type": "code",
      "source": [
        "# define constraint (2)\n",
        "for c, connection in enumerate(connections):\n",
        "  K_c = len(connection['request'])\n",
        "  for k in range(K_c + 1):\n",
        "    for i in G.nodes():\n",
        "      if i == a[c][k]:\n",
        "        m += \"Fill in the constraints\", f\"flow_constraint_c{c}_k{k}_i{i}\"\n",
        "      elif i == b[c][k]:\n",
        "        m += \"Fill in the constraints\", f\"flow_constraint_c{c}_k{k}_i{i}\"\n",
        "      else:\n",
        "        m += \"Fill in the constraints\", f\"flow_constraint_c{c}_k{k}_i{i}\""
      ],
      "metadata": {
        "id": "PUkbH6VUaWLp"
      },
      "execution_count": null,
      "outputs": []
    },
    {
      "cell_type": "code",
      "source": [
        "# define constraint (3)\n",
        "for c, connection in enumerate(connections):\n",
        "  K_c = len(connection['request'])\n",
        "  for k in range(K_c):\n",
        "    v_f_ck = b[c][k]\n",
        "    for i in G.neighbors(v_f_ck):\n",
        "      m += \"Fill in the constraints\", \"connectivity_of_subpath_constraint_i{:}j{:}c{:}k{:}\".format(i, v_f_ck, c, k)"
      ],
      "metadata": {
        "id": "-WIzoDsVagLw"
      },
      "execution_count": null,
      "outputs": []
    },
    {
      "cell_type": "code",
      "source": [
        "# define constraint (4)\n",
        "for c, connection in enumerate(connections):\n",
        "  K_c = len(connection['request'])\n",
        "  for k in range(K_c+1):\n",
        "    for i, v_f in G.edges():\n",
        "      if v_f in imaginary_nodes.values() and not v_f is b[c][k]:\n",
        "        m += x[i, v_f, c, k] == 0, \"infeasible_link_i{:}j{:}k{:}c{:}\".format(i, v_f, k, c)\n"
      ],
      "metadata": {
        "id": "j_OQ39qCak_m"
      },
      "execution_count": null,
      "outputs": []
    },
    {
      "cell_type": "code",
      "source": [
        "# define constraint (5)\n",
        "for i, j in physical_network.edges():\n",
        "  m += pulp.lpSum(connection['required_bandwidth'] * pulp.lpSum(x[i, j, c, k] for k in range(len(connection['request'])+1)) for c, connection in enumerate(connections)) <= physical_network[i][j][\"bandwidth\"], \"physical_link_capacity_i{:}j{:}\".format(i, j)\n",
        "# define constraint (6)\n",
        "for v in physical_network.nodes():\n",
        "  m += pulp.lpSum(connection[\"required_processing_node\"] * pulp.lpSum(x[v,j,c,k] for j in physical_network.neighbors(v) for k in range(len(connection['request'])+1)) + \\\n",
        "      pulp.lpSum(connection[\"required_processing_func\"][v_f-physical_node_size] * pulp.lpSum(x[v_f,v,c,k] for k in range(len(connection['request'])+1)) for v_f in G.neighbors(v) if v_f in imaginary_nodes.values() and v_f-physical_node_size in connection['request']) for c, connection in enumerate(connections)) \\\n",
        "  <= physical_network.nodes()[v][\"capacity\"], \"processing_capacity_constraint_v{:}\".format(v)\n",
        "# define additional constraints\n",
        "for c, connection in enumerate(connections):\n",
        "  K_c = len(connection['request'])\n",
        "  o = connection['origin']\n",
        "  d = connection['destination']\n",
        "  m += pulp.lpSum(x[i,o,c,0] for i in G.neighbors(o)) == 0, \"constraint_7_w{:}\".format(c)\n",
        "  m += pulp.lpSum(x[d,i,c,len(connection['request'])] for i in G.neighbors(d)) == 0, \"constraint_8_w{:}\".format(c)\n"
      ],
      "metadata": {
        "id": "zp5c9SxsanvQ"
      },
      "execution_count": null,
      "outputs": []
    },
    {
      "cell_type": "code",
      "source": [
        "# LP file\n",
        "m"
      ],
      "metadata": {
        "id": "KQhMldRVao8y"
      },
      "execution_count": null,
      "outputs": []
    },
    {
      "cell_type": "code",
      "source": [
        "# Solve\n",
        "start = time.perf_counter()\n",
        "status = m.solve()\n",
        "end = time.perf_counter()\n",
        "elapsed = end - start\n",
        "print(f\"Status: {pulp.LpStatus[status]}, Objective value: {pulp.value(m.objective)}, Execution time: {elapsed}\")\n",
        "for c in range(len(connections)):\n",
        "  K_c = len(connections[c]['request'])\n",
        "  for k in range(K_c+1):\n",
        "    for i, j in G.edges():\n",
        "      value = pulp.value(x[i,j,c,k])\n",
        "      if value == 1:\n",
        "        print(f\"{i}\\t{j}\\t{c}\\t{k}\\t{value}\")"
      ],
      "metadata": {
        "id": "COD1wWErasb8"
      },
      "execution_count": null,
      "outputs": []
    },
    {
      "cell_type": "code",
      "source": [
        "# Display a service path\n",
        "for c in range(len(connections)):\n",
        "  K_c = len(connections[c]['request'])\n",
        "  for k in range(K_c+1):\n",
        "    for i, j in G.edges():\n",
        "      G[i][j][\"color\"] = \"k\"\n",
        "    for i, j in G.edges():\n",
        "      value = pulp.value(x[i,j,c,k])\n",
        "      if value == 1:\n",
        "        G[i][j][\"color\"] = \"r\"\n",
        "    colors = list(nx.get_edge_attributes(G, \"color\").values())\n",
        "    fig = plt.figure()\n",
        "    ax = fig.add_subplot(111)\n",
        "    pos = {n: (G.nodes()[n][\"lng\"], G.nodes()[n][\"lat\"]) for n in G.nodes()}\n",
        "    nx.draw_networkx(G, pos=pos, edge_color=colors, ax=ax)\n",
        "    ax.set_title(f\"$k$={k+1}\")"
      ],
      "metadata": {
        "id": "FBZ7quGiawKN"
      },
      "execution_count": null,
      "outputs": []
    },
    {
      "cell_type": "markdown",
      "source": [
        "# Task\n",
        "In terms of the scalability, the students tackles the following tasks by using the ILP for SPTP-based SC.\n",
        "1. Impact of the number of physical nodes on both the execution time and objective value.\n",
        "2. Impact of the number of service chain requests on both the execution time and objective value.\n",
        "\n",
        "As for the task 1, please confirm how the execution time changes as the number of nodes increases, using a group of files from 100 to 1000 nodes as inputs. \n",
        "The input files can be available at `/content/22PBLA18-1/dataset/nrof_nodes*`.\n",
        "\n",
        "As for the task 2, please confirm how the execution time changes as the number of service chain requests increases, using a group of files from service chain requests 1 to 10 as inputs.\n",
        "The input files can be available at `/content/22PBLA18-1/dataset/nrof_connections*`.\n",
        "\n",
        "Please draw a graph for the results of both tasks by using matplotlib."
      ],
      "metadata": {
        "id": "oFma81ynzCR5"
      }
    },
    {
      "cell_type": "markdown",
      "source": [
        "## Additional Task (Optional)\n",
        "You can confirm from the above tasks that the ILP has huge computing resources.\n",
        "Please consider and design a heuristic algorithm to overcome the computational complexity while keeping the solution optimality."
      ],
      "metadata": {
        "id": "_Rh-IuNSMDdJ"
      }
    },
    {
      "cell_type": "code",
      "source": [],
      "metadata": {
        "id": "jfE4hooNzSo4"
      },
      "execution_count": null,
      "outputs": []
    }
  ]
}